{
 "cells": [
  {
   "cell_type": "code",
   "execution_count": 1,
   "metadata": {},
   "outputs": [
    {
     "name": "stderr",
     "output_type": "stream",
     "text": [
      "/tmp/ipykernel_24460/4235070574.py:2: DeprecationWarning: \n",
      "Pyarrow will become a required dependency of pandas in the next major release of pandas (pandas 3.0),\n",
      "(to allow more performant data types, such as the Arrow string type, and better interoperability with other libraries)\n",
      "but was not found to be installed on your system.\n",
      "If this would cause problems for you,\n",
      "please provide us feedback at https://github.com/pandas-dev/pandas/issues/54466\n",
      "        \n",
      "  import pandas as pd\n"
     ]
    }
   ],
   "source": [
    "# data analysis\n",
    "import pandas as pd\n",
    "import numpy as np\n",
    "\n",
    "# visualization\n",
    "import seaborn as sns\n",
    "import matplotlib.pyplot as plt\n",
    "%matplotlib inline\n",
    "\n",
    "# machine learning\n",
    "from sklearn.linear_model import LogisticRegression\n",
    "from sklearn.svm import SVC, LinearSVC\n",
    "from sklearn.linear_model import Perceptron\n",
    "from sklearn.naive_bayes import GaussianNB\n",
    "from sklearn.ensemble import RandomForestClassifier\n",
    "from sklearn.tree import DecisionTreeClassifier\n",
    "from sklearn.neighbors import KNeighborsClassifier\n",
    "from sklearn.metrics import f1_score\n",
    "\n",
    "import warnings\n",
    "warnings.filterwarnings('ignore')"
   ]
  },
  {
   "cell_type": "markdown",
   "metadata": {},
   "source": [
    "## Description\n",
    "\n",
    "Do you have your father’s nose?\n",
    "\n",
    "Blood relatives often share facial features. Now researchers at Northeastern University want to improve their algorithm for facial image classification to bridge the gap between research and other familial markers like DNA results. That will be your challenge in this new Kaggle competition.\n",
    "\n",
    "An automatic kinship classifier has been in the works at Northeastern since 2010. Yet this technology remains largely unseen in practice for a couple of reasons:\n",
    "\n",
    "1. Existing image databases for kinship recognition tasks aren't large enough to capture and reflect the true data distributions of the families of the world.\n",
    "\n",
    "2. Many hidden factors affect familial facial relationships, so a more discriminant model is needed than the computer vision algorithms used most often for higher-level categorizations (e.g. facial recognition or object classification).\n",
    "\n",
    "In this competition, you’ll help researchers build a more complex model by determining if two people are blood-related based solely on images of their faces. If you think you can get it \"on the nose,\" this competition is for you.\n",
    "\n",
    "\n",
    "### Evaluation\n",
    "\n",
    "Submissions are evaluated on area under the ROC curve between the predicted probability and the observed target. Not all pairs will be scored.\n",
    "\n",
    "### Submission File\n",
    "For each img_pair in the test set, you must predict a probability for the is_related variable. The column img_pair describes the pair of images, i.e., abcdef-ghijkl means the pair of images abcdef.jpg and ghijkl.jpg.\n",
    "\n",
    "The file should contain a header and have the following format:\n",
    "\n",
    "img_pair,is_related\n",
    "X3Nk6Hfe5x-qcZrTXsfde,0.0\n",
    "X3Nk6Hfe5x-LD0pWDM8w_,0.0\n",
    "X3Nk6Hfe5x-PHwuDtHyGp,0.0\n",
    "X3Nk6Hfe5x-LO6lN_U4ot,0.0\n",
    "\n",
    "etc."
   ]
  },
  {
   "cell_type": "markdown",
   "metadata": {},
   "source": [
    "## Dataset Description\n",
    "\n",
    "\n",
    "### Data Overview\n",
    "\n",
    "In this competition, you will predict if two people share a kinship relationship or not based on their facial images. The data is provided by Families In the Wild (FIW), the largest and most comprehensive image database for automatic kinship recognition.\n",
    "\n",
    "FIW's dataset is obtained from publicly available images from celebrities. For more information about their labeling process, please visit their database page.\n",
    "\n",
    "\n",
    "### File descriptions\n",
    "\n",
    "- train-faces.zip - the training set is divided in Families (F0123), then individuals (MIDx). Images in the same MIDx folder belong to the same person. Images in the same F0123 folder belong to the same family.\n",
    "\n",
    "- train.csv - training labels. Remember, not every individual in a family shares a kinship relationship. For example, a mother and father are kin to their children, but not to each other.\n",
    "\n",
    "- test-faces.zip - the test set contains face images of unknown individuals\n",
    "\n",
    "- sample_submission.csv - a sample submission file in the correct format. The column img_pair describes the pair of images, i.e., abcdef-ghijkl means the pair of images abcdef.jpg and ghijkl.jpg. \n",
    "\n",
    "\n",
    "Your goal is to predict if each pair of images in test-faces are related or not, where 1 means related and 0 means unrelated."
   ]
  },
  {
   "cell_type": "code",
   "execution_count": null,
   "metadata": {},
   "outputs": [],
   "source": []
  }
 ],
 "metadata": {
  "language_info": {
   "name": "python"
  }
 },
 "nbformat": 4,
 "nbformat_minor": 2
}
